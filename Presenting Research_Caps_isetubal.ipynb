{
 "cells": [
  {
   "cell_type": "markdown",
   "metadata": {},
   "source": [
    "RESEARCH PROPOSAL"
   ]
  },
  {
   "cell_type": "markdown",
   "metadata": {},
   "source": [
    "Incidence Rate for Lung  and Bronchus Cancer Cases  for Males and Females per Race per 100,000 population \n",
    "over the years 1975-2017 in the United States.\n"
   ]
  },
  {
   "cell_type": "markdown",
   "metadata": {},
   "source": [
    "INTRODUCTION"
   ]
  },
  {
   "cell_type": "markdown",
   "metadata": {},
   "source": [
    "Did you know  that  cancer  causes one  person to die and accounts for three  new cases every minute?  \n",
    "\n",
    "Unbelievable but true.  \n",
    "\n",
    "This is according to the latest data of the American Cancer Society 2020.  This year, there will be an estimated 1.6 million  new cancer cases and 606 thousand estimated cancer deaths.  \n",
    "\n",
    "Cancer refers to any one of a large number of diseases characterized by the development of abnormal cells that divide uncontrollably and have the ability to infiltrate and destroy normal body tissue. Cancer often has the ability to spread throughout your body.\n",
    "Cancer is the second-leading cause of death in the world. But survival rates are improving for many types of cancer, thanks to improvements in cancer screening and cancer treatment. \n",
    "\n",
    "With this development, what can be the landscape of Lung cancer and bronchus from the years that have passed.  Did healthcare and technology help in the decrease of disease incidence and prevent death among patients with lung cancer and bronchus?  That is interesting  to know.\n"
   ]
  },
  {
   "cell_type": "markdown",
   "metadata": {},
   "source": [
    "HYPOTHESIS"
   ]
  },
  {
   "cell_type": "markdown",
   "metadata": {},
   "source": [
    "Null Hypothesis \n",
    "There is no statistical difference  in the  age adjusted incidence rate for lung  and bronchus cancer cases \n",
    "for males and females per race per 100,000 population over the years 1975-2017.\n",
    "\n",
    "\n",
    "Alternate Hypothesis \n",
    "There is a statistical significance  in the  age adjusted incidence rate for lung and bronchus cancer cases  for males and females per race per 100,000 population over the years 1975-2017.\n",
    "\n",
    "\n"
   ]
  },
  {
   "cell_type": "markdown",
   "metadata": {},
   "source": [
    "DATA"
   ]
  },
  {
   "cell_type": "markdown",
   "metadata": {},
   "source": [
    "The data that will be utilized in the study are  from the National Cancer Institute  (NCI).  \n",
    "This comes from the SEER Cancer Statistical Database and covers the year 1975 to 2017.  \n",
    "The Surveillance, Epidemiology, and End Results (SEER) Program provides information on \n",
    "cancer statistics in an effort to reduce the cancer burden among the U.S. population. \n",
    "SEER is supported by the Surveillance Research Program (SRP) in \n",
    "NCI's Division of Cancer Control and Population Sciences (DCCPS).\n"
   ]
  },
  {
   "cell_type": "markdown",
   "metadata": {},
   "source": [
    "METHOD"
   ]
  },
  {
   "cell_type": "markdown",
   "metadata": {},
   "source": [
    "For the study we will be utilizing the following method:\n",
    "\n",
    "    1.  Histogram for lung cancer and bronchus incidence among males and females across the different races..\n",
    "    2.  Statistics for  skewness, kurtosis, mean and median.\n",
    "    3.  Calculate confidence interval and run a t-test to further affirm to reject the null hypothesis or to \n",
    "        fail to reject the null hypothesis.\n"
   ]
  },
  {
   "cell_type": "code",
   "execution_count": 39,
   "metadata": {},
   "outputs": [],
   "source": [
    "import math\n",
    "import pandas as pd\n",
    "import numpy as np\n",
    "from scipy import stats\n",
    "import matplotlib.pyplot as plt\n",
    "import seaborn as sns\n"
   ]
  },
  {
   "cell_type": "code",
   "execution_count": 34,
   "metadata": {},
   "outputs": [],
   "source": [
    "file_path_lung_cancer = 'C:\\\\Users\\cholo\\\\Documents\\\\Jupyter Files\\\\sect_15_table.06 (1).xlsx'\n",
    "lung_cancer_stat = pd.read_excel(file_path_lung_cancer,skiprows=4)"
   ]
  },
  {
   "cell_type": "code",
   "execution_count": 35,
   "metadata": {},
   "outputs": [
    {
     "name": "stdout",
     "output_type": "stream",
     "text": [
      "<class 'pandas.core.frame.DataFrame'>\n",
      "RangeIndex: 44 entries, 0 to 43\n",
      "Data columns (total 9 columns):\n",
      "Year of Diagnosis    44 non-null object\n",
      "All Races,Males      44 non-null float64\n",
      "All Races,Females    44 non-null float64\n",
      "Whites,Both Sexes    44 non-null float64\n",
      "Whites,Males         44 non-null float64\n",
      "Whites,Females       44 non-null float64\n",
      "Blacks,Both Sexes    44 non-null float64\n",
      "Blacks,Males         44 non-null float64\n",
      "Blacks,Females       44 non-null float64\n",
      "dtypes: float64(8), object(1)\n",
      "memory usage: 3.2+ KB\n"
     ]
    }
   ],
   "source": [
    "lung_cancer_stat = lung_cancer_stat\n",
    "lung_cancer_stat.info()"
   ]
  },
  {
   "cell_type": "code",
   "execution_count": 36,
   "metadata": {},
   "outputs": [
    {
     "data": {
      "text/html": [
       "<div>\n",
       "<style scoped>\n",
       "    .dataframe tbody tr th:only-of-type {\n",
       "        vertical-align: middle;\n",
       "    }\n",
       "\n",
       "    .dataframe tbody tr th {\n",
       "        vertical-align: top;\n",
       "    }\n",
       "\n",
       "    .dataframe thead th {\n",
       "        text-align: right;\n",
       "    }\n",
       "</style>\n",
       "<table border=\"1\" class=\"dataframe\">\n",
       "  <thead>\n",
       "    <tr style=\"text-align: right;\">\n",
       "      <th></th>\n",
       "      <th>Year of Diagnosis</th>\n",
       "      <th>All Races,Males</th>\n",
       "      <th>All Races,Females</th>\n",
       "      <th>Whites,Both Sexes</th>\n",
       "      <th>Whites,Males</th>\n",
       "      <th>Whites,Females</th>\n",
       "      <th>Blacks,Both Sexes</th>\n",
       "      <th>Blacks,Males</th>\n",
       "      <th>Blacks,Females</th>\n",
       "    </tr>\n",
       "  </thead>\n",
       "  <tbody>\n",
       "    <tr>\n",
       "      <td>0</td>\n",
       "      <td>1975_2017</td>\n",
       "      <td>81.45</td>\n",
       "      <td>46.27</td>\n",
       "      <td>61.64</td>\n",
       "      <td>80.94</td>\n",
       "      <td>47.48</td>\n",
       "      <td>75.91</td>\n",
       "      <td>112.05</td>\n",
       "      <td>50.79</td>\n",
       "    </tr>\n",
       "    <tr>\n",
       "      <td>1</td>\n",
       "      <td>1975</td>\n",
       "      <td>89.53</td>\n",
       "      <td>24.52</td>\n",
       "      <td>51.94</td>\n",
       "      <td>89.15</td>\n",
       "      <td>24.84</td>\n",
       "      <td>64.46</td>\n",
       "      <td>114.71</td>\n",
       "      <td>24.66</td>\n",
       "    </tr>\n",
       "    <tr>\n",
       "      <td>2</td>\n",
       "      <td>1976</td>\n",
       "      <td>93.79</td>\n",
       "      <td>27.31</td>\n",
       "      <td>54.63</td>\n",
       "      <td>92.74</td>\n",
       "      <td>27.28</td>\n",
       "      <td>72.34</td>\n",
       "      <td>131.00</td>\n",
       "      <td>28.63</td>\n",
       "    </tr>\n",
       "    <tr>\n",
       "      <td>3</td>\n",
       "      <td>1977</td>\n",
       "      <td>95.48</td>\n",
       "      <td>28.33</td>\n",
       "      <td>55.87</td>\n",
       "      <td>94.73</td>\n",
       "      <td>28.07</td>\n",
       "      <td>73.58</td>\n",
       "      <td>124.86</td>\n",
       "      <td>33.88</td>\n",
       "    </tr>\n",
       "    <tr>\n",
       "      <td>4</td>\n",
       "      <td>1978</td>\n",
       "      <td>96.67</td>\n",
       "      <td>29.63</td>\n",
       "      <td>57.25</td>\n",
       "      <td>95.86</td>\n",
       "      <td>29.87</td>\n",
       "      <td>74.44</td>\n",
       "      <td>130.51</td>\n",
       "      <td>31.53</td>\n",
       "    </tr>\n",
       "  </tbody>\n",
       "</table>\n",
       "</div>"
      ],
      "text/plain": [
       "  Year of Diagnosis  All Races,Males  All Races,Females  Whites,Both Sexes  \\\n",
       "0         1975_2017            81.45              46.27              61.64   \n",
       "1              1975            89.53              24.52              51.94   \n",
       "2              1976            93.79              27.31              54.63   \n",
       "3              1977            95.48              28.33              55.87   \n",
       "4              1978            96.67              29.63              57.25   \n",
       "\n",
       "   Whites,Males  Whites,Females  Blacks,Both Sexes  Blacks,Males  \\\n",
       "0         80.94           47.48              75.91        112.05   \n",
       "1         89.15           24.84              64.46        114.71   \n",
       "2         92.74           27.28              72.34        131.00   \n",
       "3         94.73           28.07              73.58        124.86   \n",
       "4         95.86           29.87              74.44        130.51   \n",
       "\n",
       "   Blacks,Females  \n",
       "0           50.79  \n",
       "1           24.66  \n",
       "2           28.63  \n",
       "3           33.88  \n",
       "4           31.53  "
      ]
     },
     "execution_count": 36,
     "metadata": {},
     "output_type": "execute_result"
    }
   ],
   "source": [
    "lung_cancer_stat.head()"
   ]
  },
  {
   "cell_type": "code",
   "execution_count": 20,
   "metadata": {},
   "outputs": [
    {
     "data": {
      "text/html": [
       "<div>\n",
       "<style scoped>\n",
       "    .dataframe tbody tr th:only-of-type {\n",
       "        vertical-align: middle;\n",
       "    }\n",
       "\n",
       "    .dataframe tbody tr th {\n",
       "        vertical-align: top;\n",
       "    }\n",
       "\n",
       "    .dataframe thead th {\n",
       "        text-align: right;\n",
       "    }\n",
       "</style>\n",
       "<table border=\"1\" class=\"dataframe\">\n",
       "  <thead>\n",
       "    <tr style=\"text-align: right;\">\n",
       "      <th></th>\n",
       "      <th>All Races,Males</th>\n",
       "      <th>All Races,Females</th>\n",
       "      <th>Whites,Both Sexes</th>\n",
       "      <th>Whites,Males</th>\n",
       "      <th>Whites,Females</th>\n",
       "      <th>Blacks,Both Sexes</th>\n",
       "      <th>Blacks,Males</th>\n",
       "      <th>Blacks,Females</th>\n",
       "    </tr>\n",
       "  </thead>\n",
       "  <tbody>\n",
       "    <tr>\n",
       "      <td>count</td>\n",
       "      <td>44.000000</td>\n",
       "      <td>44.000000</td>\n",
       "      <td>44.000000</td>\n",
       "      <td>44.000000</td>\n",
       "      <td>44.000000</td>\n",
       "      <td>44.000000</td>\n",
       "      <td>44.000000</td>\n",
       "      <td>44.000000</td>\n",
       "    </tr>\n",
       "    <tr>\n",
       "      <td>mean</td>\n",
       "      <td>84.616591</td>\n",
       "      <td>45.513864</td>\n",
       "      <td>62.068636</td>\n",
       "      <td>83.555682</td>\n",
       "      <td>46.923864</td>\n",
       "      <td>78.564318</td>\n",
       "      <td>119.978636</td>\n",
       "      <td>49.398636</td>\n",
       "    </tr>\n",
       "    <tr>\n",
       "      <td>std</td>\n",
       "      <td>14.158980</td>\n",
       "      <td>8.169632</td>\n",
       "      <td>5.377511</td>\n",
       "      <td>13.909759</td>\n",
       "      <td>8.840522</td>\n",
       "      <td>10.098001</td>\n",
       "      <td>25.037312</td>\n",
       "      <td>9.299232</td>\n",
       "    </tr>\n",
       "    <tr>\n",
       "      <td>min</td>\n",
       "      <td>55.430000</td>\n",
       "      <td>24.520000</td>\n",
       "      <td>50.240000</td>\n",
       "      <td>54.710000</td>\n",
       "      <td>24.840000</td>\n",
       "      <td>56.120000</td>\n",
       "      <td>71.200000</td>\n",
       "      <td>24.660000</td>\n",
       "    </tr>\n",
       "    <tr>\n",
       "      <td>25%</td>\n",
       "      <td>74.167500</td>\n",
       "      <td>41.775000</td>\n",
       "      <td>57.837500</td>\n",
       "      <td>73.047500</td>\n",
       "      <td>42.417500</td>\n",
       "      <td>74.037500</td>\n",
       "      <td>100.995000</td>\n",
       "      <td>45.735000</td>\n",
       "    </tr>\n",
       "    <tr>\n",
       "      <td>50%</td>\n",
       "      <td>88.000000</td>\n",
       "      <td>48.610000</td>\n",
       "      <td>63.085000</td>\n",
       "      <td>86.630000</td>\n",
       "      <td>50.440000</td>\n",
       "      <td>80.670000</td>\n",
       "      <td>126.290000</td>\n",
       "      <td>51.615000</td>\n",
       "    </tr>\n",
       "    <tr>\n",
       "      <td>75%</td>\n",
       "      <td>97.210000</td>\n",
       "      <td>51.720000</td>\n",
       "      <td>66.867500</td>\n",
       "      <td>95.947500</td>\n",
       "      <td>53.567500</td>\n",
       "      <td>86.620000</td>\n",
       "      <td>141.487500</td>\n",
       "      <td>56.557500</td>\n",
       "    </tr>\n",
       "    <tr>\n",
       "      <td>max</td>\n",
       "      <td>102.050000</td>\n",
       "      <td>53.840000</td>\n",
       "      <td>68.960000</td>\n",
       "      <td>100.660000</td>\n",
       "      <td>56.030000</td>\n",
       "      <td>93.990000</td>\n",
       "      <td>158.840000</td>\n",
       "      <td>60.710000</td>\n",
       "    </tr>\n",
       "  </tbody>\n",
       "</table>\n",
       "</div>"
      ],
      "text/plain": [
       "       All Races,Males  All Races,Females  Whites,Both Sexes  Whites,Males  \\\n",
       "count        44.000000          44.000000          44.000000     44.000000   \n",
       "mean         84.616591          45.513864          62.068636     83.555682   \n",
       "std          14.158980           8.169632           5.377511     13.909759   \n",
       "min          55.430000          24.520000          50.240000     54.710000   \n",
       "25%          74.167500          41.775000          57.837500     73.047500   \n",
       "50%          88.000000          48.610000          63.085000     86.630000   \n",
       "75%          97.210000          51.720000          66.867500     95.947500   \n",
       "max         102.050000          53.840000          68.960000    100.660000   \n",
       "\n",
       "       Whites,Females  Blacks,Both Sexes  Blacks,Males  Blacks,Females  \n",
       "count       44.000000          44.000000     44.000000       44.000000  \n",
       "mean        46.923864          78.564318    119.978636       49.398636  \n",
       "std          8.840522          10.098001     25.037312        9.299232  \n",
       "min         24.840000          56.120000     71.200000       24.660000  \n",
       "25%         42.417500          74.037500    100.995000       45.735000  \n",
       "50%         50.440000          80.670000    126.290000       51.615000  \n",
       "75%         53.567500          86.620000    141.487500       56.557500  \n",
       "max         56.030000          93.990000    158.840000       60.710000  "
      ]
     },
     "execution_count": 20,
     "metadata": {},
     "output_type": "execute_result"
    }
   ],
   "source": [
    "lung_cancer_stat.describe()"
   ]
  },
  {
   "cell_type": "markdown",
   "metadata": {},
   "source": [
    "HiSTOGRAM"
   ]
  },
  {
   "cell_type": "code",
   "execution_count": 21,
   "metadata": {},
   "outputs": [
    {
     "data": {
      "image/png": "[encoded data removed]",
      "text/plain": [
       "<Figure size 432x288 with 1 Axes>"
      ]
     },
     "metadata": {
      "needs_background": "light"
     },
     "output_type": "display_data"
    },
    {
     "name": "stdout",
     "output_type": "stream",
     "text": [
      "DescribeResult(nobs=44, minmax=(55.43, 102.05), mean=84.61659090909092, variance=200.4767067124736, skewness=-0.5624479182440552, kurtosis=-0.9529553794400281)\n",
      "DescribeResult(nobs=44, minmax=(24.52, 53.84), mean=45.51386363636363, variance=66.74288472515858, skewness=-1.1414935121172443, kurtosis=0.13095332621716338)\n"
     ]
    }
   ],
   "source": [
    "plt.hist(lung_cancer_stat['All Races,Males'], color='b', alpha = 1, label = 'All Races,Males')\n",
    "plt.hist(lung_cancer_stat['All Races,Females'],color='r', alpha = 1, label = 'All Races,Females')\n",
    "plt.title('Lung and Bronchus All Races')\n",
    "plt.legend()\n",
    "plt.show()\n",
    "\n",
    "print(stats.describe(lung_cancer_stat['All Races,Males']))\n",
    "print(stats.describe(lung_cancer_stat ['All Races,Females']))"
   ]
  },
  {
   "cell_type": "markdown",
   "metadata": {},
   "source": [
    "The histogram reveals that the All Races Males and All Races for Females has a negative skewed graph. Skewness for All Races Males is -.56 and All Races Females has a -1.14 both of which are with in  the -3 to 3 metrics. The kurtosis for both Male and Females has -.95 and for Females is -.13.  Both of which are withing the -3 to 3 parameters.  Thus with the results we can move forward to the T-test."
   ]
  },
  {
   "cell_type": "code",
   "execution_count": 23,
   "metadata": {},
   "outputs": [
    {
     "data": {
      "text/plain": [
       "Ttest_indResult(statistic=15.867161397961802, pvalue=2.808478067106404e-27)"
      ]
     },
     "execution_count": 23,
     "metadata": {},
     "output_type": "execute_result"
    }
   ],
   "source": [
    "stats.ttest_ind(lung_cancer_stat['All Races,Males'], lung_cancer_stat['All Races,Females'])"
   ]
  },
  {
   "cell_type": "markdown",
   "metadata": {},
   "source": [
    "We can reject the null hypothesis for the test statistics is higher than 1.96 and the p-value is .0.0000000000000000000000000028 which is lower than pvlue .05"
   ]
  },
  {
   "cell_type": "code",
   "execution_count": 24,
   "metadata": {},
   "outputs": [
    {
     "data": {
      "text/plain": [
       "'The difference in means at the 95% confidence interval (two-tail) is between -43.93291356328777 and -34.27254098216682.'"
      ]
     },
     "execution_count": 24,
     "metadata": {},
     "output_type": "execute_result"
    }
   ],
   "source": [
    "def get_95_ci(array_1, array_2):\n",
    "    sample_1_n = array_1.shape[0]\n",
    "    sample_2_n = array_2.shape[0]\n",
    "    sample_1_mean = array_1.mean()\n",
    "    sample_2_mean = array_2.mean()\n",
    "    sample_1_var = array_1.var()\n",
    "    sample_2_var = array_2.var()\n",
    "    mean_difference = sample_2_mean - sample_1_mean\n",
    "    std_err_difference = math.sqrt((sample_1_var/sample_1_n)+(sample_2_var/sample_2_n))\n",
    "    margin_of_error = 1.96 * std_err_difference\n",
    "    ci_lower = mean_difference - margin_of_error\n",
    "    ci_upper = mean_difference + margin_of_error\n",
    "    return(\"The difference in means at the 95% confidence interval (two-tail) is between \"+str(ci_lower)+\" and \"+str(ci_upper)+\".\")\n",
    "\n",
    "get_95_ci(lung_cancer_stat['All Races,Males'], lung_cancer_stat['All Races,Females'])"
   ]
  },
  {
   "cell_type": "code",
   "execution_count": 32,
   "metadata": {},
   "outputs": [
    {
     "data": {
      "text/plain": [
       "[[Text(0, 0, 'All Races, Males'), Text(0, 0, 'All Races,Females')]]"
      ]
     },
     "execution_count": 32,
     "metadata": {},
     "output_type": "execute_result"
    },
    {
     "data": {
      "image/png": "[encoded data removed]",
      "text/plain": [
       "<Figure size 432x288 with 1 Axes>"
      ]
     },
     "metadata": {
      "needs_background": "light"
     },
     "output_type": "display_data"
    }
   ],
   "source": [
    "g = sns.pointplot(data=[lung_cancer_stat['All Races,Males'],\n",
    "                        lung_cancer_stat['All Races,Females']], join=False)\n",
    "                        \n",
    "g.set(xticklabels = ['All Races, Males', 'All Races,Females'])"
   ]
  },
  {
   "cell_type": "markdown",
   "metadata": {},
   "source": [
    "The graph provides visualization that the incidence rate of lung cancer and bronchus is higher in All Races,Males versus \n",
    "All Races, Female"
   ]
  },
  {
   "cell_type": "code",
   "execution_count": 26,
   "metadata": {},
   "outputs": [
    {
     "data": {
      "image/png": "[encoded data removed]",
      "text/plain": [
       "<Figure size 432x288 with 1 Axes>"
      ]
     },
     "metadata": {
      "needs_background": "light"
     },
     "output_type": "display_data"
    },
    {
     "name": "stdout",
     "output_type": "stream",
     "text": [
      "DescribeResult(nobs=44, minmax=(54.71, 100.66), mean=83.55568181818182, variance=193.4813925475687, skewness=-0.5684295218528094, kurtosis=-0.9422585161803778)\n",
      "DescribeResult(nobs=44, minmax=(71.2, 158.84), mean=119.97863636363637, variance=626.86701205074, skewness=-0.4155795047693756, kurtosis=-0.939689811784131)\n"
     ]
    }
   ],
   "source": [
    "plt.hist(lung_cancer_stat['Whites,Males'], alpha = 1, label = 'White Males')\n",
    "plt.hist(lung_cancer_stat['Blacks,Males'],color='r', alpha = .5, label = 'Black Males')\n",
    "plt.title('Lung and Bronchus Among Males')\n",
    "plt.legend()\n",
    "plt.show()\n",
    "\n",
    "print(stats.describe(lung_cancer_stat['Whites,Males']))\n",
    "print(stats.describe(lung_cancer_stat ['Blacks,Males']))\n"
   ]
  },
  {
   "cell_type": "markdown",
   "metadata": {},
   "source": [
    "The both white and black males graph has a skewness  of -.56 and -.41 respectively and kurtosis which is -.56 and -.93 \n",
    "respectively has passed the parameters for both measurement which are .3 to 3. With this we can now proceed to the t-test and pvalue test.   "
   ]
  },
  {
   "cell_type": "code",
   "execution_count": 189,
   "metadata": {},
   "outputs": [
    {
     "data": {
      "text/plain": [
       "Ttest_indResult(statistic=-8.435335124053573, pvalue=6.935021629876107e-13)"
      ]
     },
     "execution_count": 189,
     "metadata": {},
     "output_type": "execute_result"
    }
   ],
   "source": [
    "stats.ttest_ind(lung_cancer_stat['Whites,Males'], lung_cancer_stat['Blacks,Males'])"
   ]
  },
  {
   "cell_type": "markdown",
   "metadata": {},
   "source": [
    "We can now reject the null hypothesis between white and black males because statistical test is -8.43 and pvalue of 6.935021629876107e-13"
   ]
  },
  {
   "cell_type": "code",
   "execution_count": 37,
   "metadata": {},
   "outputs": [
    {
     "data": {
      "text/plain": [
       "'The difference in means at the 95% confidence interval (two-tail) is between -44.886043428019875 and -27.959865662889154.'"
      ]
     },
     "execution_count": 37,
     "metadata": {},
     "output_type": "execute_result"
    }
   ],
   "source": [
    "get_95_ci(lung_cancer_stat['Blacks,Males'], lung_cancer_stat['Whites,Males'])"
   ]
  },
  {
   "cell_type": "code",
   "execution_count": 30,
   "metadata": {},
   "outputs": [
    {
     "data": {
      "text/plain": [
       "[[Text(0, 0, 'Black Males'), Text(0, 0, 'White Males')]]"
      ]
     },
     "execution_count": 30,
     "metadata": {},
     "output_type": "execute_result"
    },
    {
     "data": {
      "image/png": "[encoded data removed]",
      "text/plain": [
       "<Figure size 432x288 with 1 Axes>"
      ]
     },
     "metadata": {
      "needs_background": "light"
     },
     "output_type": "display_data"
    }
   ],
   "source": [
    "g = sns.pointplot(data=[lung_cancer_stat['Blacks,Males'],\n",
    "                        lung_cancer_stat['Whites,Males']], join=False)\n",
    "                        \n",
    "g.set(xticklabels = ['Black Males', 'White Males'])"
   ]
  },
  {
   "cell_type": "code",
   "execution_count": null,
   "metadata": {},
   "outputs": [],
   "source": [
    "The graph shows us that statistically black males have a higher incidence rate of lung cancer and bronchus \n",
    "compared to white males."
   ]
  },
  {
   "cell_type": "code",
   "execution_count": 14,
   "metadata": {},
   "outputs": [
    {
     "data": {
      "image/png": "[encoded data removed]",
      "text/plain": [
       "<Figure size 432x288 with 1 Axes>"
      ]
     },
     "metadata": {
      "needs_background": "light"
     },
     "output_type": "display_data"
    },
    {
     "name": "stdout",
     "output_type": "stream",
     "text": [
      "DescribeResult(nobs=44, minmax=(24.66, 60.71), mean=49.39863636363635, variance=86.47571902748415, skewness=-0.9845308168094425, kurtosis=0.028233024038117005)\n",
      "DescribeResult(nobs=44, minmax=(24.84, 56.03), mean=46.92386363636364, variance=78.15483356236787, skewness=-1.119579739422088, kurtosis=0.05589793431184198)\n"
     ]
    }
   ],
   "source": [
    "plt.hist(lung_cancer_stat['Blacks,Females'], alpha = 1, label = 'Balck Females')\n",
    "plt.hist(lung_cancer_stat['Whites,Females'],color='g', alpha = .5, label = 'White Females')\n",
    "plt.title('Lung and Bronchus Among Females')\n",
    "plt.legend()\n",
    "plt.show()\n",
    "\n",
    "print(stats.describe(lung_cancer_stat['Blacks,Females']))\n",
    "print(stats.describe(lung_cancer_stat ['Whites,Females']))\n"
   ]
  },
  {
   "cell_type": "markdown",
   "metadata": {},
   "source": [
    "Both black and white females passed the skewness of .98 and 1.11 respectively  and kurtosis .02 and .05 respectively test. \n",
    "Thus with this result, we can test the data for t-test."
   ]
  },
  {
   "cell_type": "code",
   "execution_count": 191,
   "metadata": {},
   "outputs": [
    {
     "data": {
      "text/plain": [
       "Ttest_indResult(statistic=1.2794002805208495, pvalue=0.2041971911614595)"
      ]
     },
     "execution_count": 191,
     "metadata": {},
     "output_type": "execute_result"
    }
   ],
   "source": [
    "stats.ttest_ind(lung_cancer_stat['Blacks,Females'], lung_cancer_stat['Whites,Females'])"
   ]
  },
  {
   "cell_type": "markdown",
   "metadata": {},
   "source": [
    "The t-test reject the null hypothesis that there is no statistical difference in the  age adjusted incidence rate \n",
    "for lung  and bronchus cancer cases for black and white females per race per 100,000 population over the years 1975-2017.  The test statistics shows a 1.27 value and the p-value is .20 which is lower than the p-value of .05."
   ]
  },
  {
   "cell_type": "code",
   "execution_count": 38,
   "metadata": {},
   "outputs": [
    {
     "data": {
      "text/plain": [
       "'The difference in means at the 95% confidence interval (two-tail) is between -6.266044793806744 and 1.3164993392613282.'"
      ]
     },
     "execution_count": 38,
     "metadata": {},
     "output_type": "execute_result"
    }
   ],
   "source": [
    "get_95_ci(lung_cancer_stat['Blacks,Females'], lung_cancer_stat['Whites,Females'])"
   ]
  },
  {
   "cell_type": "code",
   "execution_count": 31,
   "metadata": {},
   "outputs": [
    {
     "data": {
      "text/plain": [
       "[[Text(0, 0, 'Blacks,Females'), Text(0, 0, 'Whites,Females')]]"
      ]
     },
     "execution_count": 31,
     "metadata": {},
     "output_type": "execute_result"
    },
    {
     "data": {
      "image/png": "[encoded data removed]",
      "text/plain": [
       "<Figure size 432x288 with 1 Axes>"
      ]
     },
     "metadata": {
      "needs_background": "light"
     },
     "output_type": "display_data"
    }
   ],
   "source": [
    "g = sns.pointplot(data=[lung_cancer_stat['Blacks,Females'],\n",
    "                        lung_cancer_stat['Whites,Females']], join=False)\n",
    "                        \n",
    "g.set(xticklabels = ['Blacks,Females', 'Whites,Females'])"
   ]
  },
  {
   "cell_type": "code",
   "execution_count": null,
   "metadata": {},
   "outputs": [],
   "source": [
    "The graph exhibits that the incidence of lung cancer is higher in Black Females compared to White Females."
   ]
  },
  {
   "cell_type": "code",
   "execution_count": null,
   "metadata": {},
   "outputs": [],
   "source": [
    "RESULTS"
   ]
  },
  {
   "cell_type": "markdown",
   "metadata": {},
   "source": [
    "The results are as follows: \n",
    "    \n",
    "    1.  Between All Races, Males and All Races, Females, the Null Hypothesis is rejected. The test statistics is 15.87\n",
    "    higher than 1.96 and the p-value is 2.808478067106404e-27 which is lower than p-value .05. \n",
    "    \n",
    "    \n",
    "    2.  Between White Males and Black Males, the Null Hypothesis is rejected because statistical test is -8.43 and \n",
    "    pvalue of 6.935021629876107e-13 which is lower than p-value of .05.\n",
    "    \n",
    "   \n",
    "    3.  The t-test fails to reject the null hypothesis that there is no statistical difference in the age adjusted \n",
    "    incidence rate for lung and bronchus cancer cases for black and white females per race per 100,000 population \n",
    "    over the years 1975-2017.  The test statistics shows a 1.27  and the p-value is .20 which is lower than the p-value \n",
    "    of .05.\n",
    " "
   ]
  },
  {
   "cell_type": "code",
   "execution_count": null,
   "metadata": {},
   "outputs": [],
   "source": [
    "DISCUSSION AND RECOMMENDATION"
   ]
  },
  {
   "cell_type": "markdown",
   "metadata": {},
   "source": [
    "Lung cancer is one of the dreaded disease that has caused of people in differenct races to die. We wanted to learn\n",
    "the incidence rate of lung cancer and bronchus accross races and gender in the US.  The study provided insights that there \n",
    "a statistical significance between increase incidence of lung cancer among the race and gender.  Black people are more prone \n",
    "lung cancer compared to white people. Male are more susceptible to acquire lung cancer compared to women and among women black \n",
    "women have increased rate of acquiring lung cancer compared to white women.\n",
    "\n",
    "Further, we would want to understand the idiosyncrasy of lung cancer between race and gender.  \n",
    "\n",
    "Is it physiologic or genetics, a factor that can increased incidence rate of lung cancer or  is it lifestyle that becomes a means to acquire lung cancer. What about technology? Are there enough equipment and drugs readilly available to all? What is the contributing factor that can increase overall survival among lung cancer patient. Is it early detection or holistic treatment approach. \n",
    "\n",
    "All of these can be studied to further provide us with deep learning about lung cancer and eventually help in decreasing the incidence of lung cancer among the population.\n"
   ]
  }
 ],
 "metadata": {
  "kernelspec": {
   "display_name": "Python 3",
   "language": "python",
   "name": "python3"
  },
  "language_info": {
   "codemirror_mode": {
    "name": "ipython",
    "version": 3
   },
   "file_extension": ".py",
   "mimetype": "text/x-python",
   "name": "python",
   "nbconvert_exporter": "python",
   "pygments_lexer": "ipython3",
   "version": "3.7.4"
  }
 },
 "nbformat": 4,
 "nbformat_minor": 2
}
